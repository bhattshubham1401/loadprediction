{
 "cells": [
  {
   "cell_type": "code",
   "execution_count": 2,
   "id": "initial_id",
   "metadata": {
    "ExecuteTime": {
     "end_time": "2023-11-02T06:55:39.860809600Z",
     "start_time": "2023-11-02T06:55:38.957359100Z"
    },
    "collapsed": true
   },
   "outputs": [],
   "source": [
    "import os\n",
    "\n",
    "from pandas.io.parquet import to_parquet"
   ]
  },
  {
   "cell_type": "code",
   "execution_count": 3,
   "id": "e080638217e7277f",
   "metadata": {
    "ExecuteTime": {
     "end_time": "2023-11-02T06:55:40.531275100Z",
     "start_time": "2023-11-02T06:55:40.480775900Z"
    },
    "collapsed": false
   },
   "outputs": [
    {
     "data": {
      "text/plain": [
       "'D:\\\\HourlyConsumptiomXGboost\\\\research'"
      ]
     },
     "execution_count": 3,
     "metadata": {},
     "output_type": "execute_result"
    }
   ],
   "source": [
    "%pwd\n"
   ]
  },
  {
   "cell_type": "code",
   "execution_count": 4,
   "id": "c702174d16e376a6",
   "metadata": {
    "ExecuteTime": {
     "end_time": "2023-11-02T06:55:41.409426300Z",
     "start_time": "2023-11-02T06:55:41.401674400Z"
    },
    "collapsed": false
   },
   "outputs": [],
   "source": [
    "# os.chdir(r\"D:\\HourlyConsumptiomXGboost\")"
   ]
  },
  {
   "cell_type": "code",
   "execution_count": 5,
   "id": "5300418ebf1ea321",
   "metadata": {
    "ExecuteTime": {
     "end_time": "2023-11-02T06:55:42.828580400Z",
     "start_time": "2023-11-02T06:55:42.820445900Z"
    },
    "collapsed": false
   },
   "outputs": [
    {
     "data": {
      "text/plain": [
       "'D:\\\\HourlyConsumptiomXGboost'"
      ]
     },
     "execution_count": 5,
     "metadata": {},
     "output_type": "execute_result"
    }
   ],
   "source": [
    "%pwd"
   ]
  },
  {
   "cell_type": "code",
   "execution_count": 18,
   "id": "738cce6045e376f1",
   "metadata": {
    "ExecuteTime": {
     "end_time": "2023-11-02T06:57:45.134942500Z",
     "start_time": "2023-11-02T06:57:45.114349100Z"
    },
    "collapsed": false
   },
   "outputs": [],
   "source": [
    "# entity\n",
    "from dataclasses import dataclass\n",
    "from pathlib import Path\n",
    "\n",
    "\n",
    "@dataclass(frozen=True)\n",
    "class DataIngestionConfig:\n",
    "    root_dir: Path\n",
    "    # source_URL:str\n",
    "    local_data_file: Path"
   ]
  },
  {
   "cell_type": "code",
   "execution_count": 19,
   "id": "5f6ea6f4f904a0a5",
   "metadata": {
    "ExecuteTime": {
     "end_time": "2023-11-02T06:57:45.460950100Z",
     "start_time": "2023-11-02T06:57:45.450984100Z"
    },
    "collapsed": false
   },
   "outputs": [],
   "source": [
    "from src.mlProject.constants import *\n",
    "from src.mlProject.utils.common import read_yaml, create_directories"
   ]
  },
  {
   "cell_type": "code",
   "execution_count": 20,
   "id": "1e5bc5a2ae7bb542",
   "metadata": {
    "ExecuteTime": {
     "end_time": "2023-11-02T06:57:45.872023700Z",
     "start_time": "2023-11-02T06:57:45.862962Z"
    },
    "collapsed": false
   },
   "outputs": [],
   "source": [
    "class ConfigurationManager:\n",
    "    def __init__(\n",
    "        self,\n",
    "        config_filepath = CONFIG_FILE_PATH,\n",
    "        params_filepath = PARAMS_FILE_PATH,\n",
    "        schema_filepath = SCHEMA_FILE_PATH):\n",
    "\n",
    "        self.config = read_yaml(config_filepath)\n",
    "        self.params = read_yaml(params_filepath)\n",
    "        self.schema = read_yaml(schema_filepath)\n",
    "\n",
    "        create_directories([self.config.artifacts_root])\n",
    "\n",
    "\n",
    "    \n",
    "    def get_data_ingestion_config(self) -> DataIngestionConfig:\n",
    "        config = self.config.data_ingestion\n",
    "\n",
    "        create_directories([config.root_dir])\n",
    "\n",
    "        data_ingestion_config = DataIngestionConfig(\n",
    "            root_dir=config.root_dir,\n",
    "            # source_URL=config.source_URL,\n",
    "            local_data_file=config.local_data_file1\n",
    "        )\n",
    "\n",
    "        return data_ingestion_config"
   ]
  },
  {
   "cell_type": "code",
   "execution_count": 21,
   "id": "fd7f844aa9137ed0",
   "metadata": {
    "ExecuteTime": {
     "end_time": "2023-11-02T06:57:46.237316100Z",
     "start_time": "2023-11-02T06:57:46.224835Z"
    },
    "collapsed": false
   },
   "outputs": [],
   "source": [
    "import os\n",
    "import urllib.request as request\n",
    "import pandas as pd\n",
    "from src.mlProject import logger\n",
    "from src.mlProject.utils.common import get_size,get_mongoData\n"
   ]
  },
  {
   "cell_type": "code",
   "execution_count": 22,
   "id": "7092d437fa694471",
   "metadata": {
    "ExecuteTime": {
     "end_time": "2023-11-02T06:57:47.604954700Z",
     "start_time": "2023-11-02T06:57:47.598024Z"
    },
    "collapsed": false
   },
   "outputs": [],
   "source": [
    "class DataIngestion:\n",
    "    def __init__(self, config: DataIngestionConfig):\n",
    "        self.config = config\n",
    "           \n",
    "    def initiateDataIngestion(self):\n",
    "        try:\n",
    "            data = get_mongoData()\n",
    "            logger.info(\"Reading Completed from MongoDB\")\n",
    "            logger.info(\"Writing data in Parquet file\")\n",
    "            data.to_parquet(self.config.local_data_file1, index=False, engine='fastparquet')\n",
    "            read_df = pd.read_parquet(self.config.local_data_file1)\n",
    "            print(read_df)\n",
    "            \n",
    "        except Exception as e:\n",
    "            print(f\"Error: {e}\")\n",
    "  "
   ]
  },
  {
   "cell_type": "code",
   "execution_count": 23,
   "id": "23bc1da1d9d65f1",
   "metadata": {
    "ExecuteTime": {
     "end_time": "2023-11-02T07:02:30.208015400Z",
     "start_time": "2023-11-02T06:57:48.050658300Z"
    },
    "collapsed": false
   },
   "outputs": [
    {
     "name": "stdout",
     "output_type": "stream",
     "text": [
      "[2023-11-02 12:27:48,051: INFO: common: yaml file: config\\config.yaml loaded successfully]\n",
      "[2023-11-02 12:27:48,054: INFO: common: yaml file: params.yaml loaded successfully]\n",
      "[2023-11-02 12:27:48,060: INFO: common: yaml file: schema.yaml loaded successfully]\n",
      "[2023-11-02 12:27:48,062: INFO: common: created directory at: artifacts]\n",
      "[2023-11-02 12:27:48,064: INFO: common: created directory at: artifacts/data_ingestion]\n",
      "[2023-11-02 12:27:48,066: INFO: common: calling DB configuration]\n",
      "[2023-11-02 12:27:48,067: INFO: common: Reading data from Mongo DB]\n"
     ]
    },
    {
     "ename": "KeyboardInterrupt",
     "evalue": "",
     "output_type": "error",
     "traceback": [
      "\u001B[1;31m---------------------------------------------------------------------------\u001B[0m",
      "\u001B[1;31mKeyboardInterrupt\u001B[0m                         Traceback (most recent call last)",
      "Cell \u001B[1;32mIn[23], line 5\u001B[0m\n\u001B[0;32m      3\u001B[0m     data_ingestion_config \u001B[38;5;241m=\u001B[39m config\u001B[38;5;241m.\u001B[39mget_data_ingestion_config()\n\u001B[0;32m      4\u001B[0m     data_ingestion \u001B[38;5;241m=\u001B[39m DataIngestion(config\u001B[38;5;241m=\u001B[39mdata_ingestion_config)\n\u001B[1;32m----> 5\u001B[0m     \u001B[43mdata_ingestion\u001B[49m\u001B[38;5;241;43m.\u001B[39;49m\u001B[43minitiateDataIngestion\u001B[49m\u001B[43m(\u001B[49m\u001B[43m)\u001B[49m\n\u001B[0;32m      6\u001B[0m     \u001B[38;5;66;03m# data_ingestion.extract_zip_file()\u001B[39;00m\n\u001B[0;32m      7\u001B[0m \u001B[38;5;28;01mexcept\u001B[39;00m \u001B[38;5;167;01mException\u001B[39;00m \u001B[38;5;28;01mas\u001B[39;00m e:\n",
      "Cell \u001B[1;32mIn[22], line 7\u001B[0m, in \u001B[0;36mDataIngestion.initiateDataIngestion\u001B[1;34m(self)\u001B[0m\n\u001B[0;32m      5\u001B[0m \u001B[38;5;28;01mdef\u001B[39;00m \u001B[38;5;21minitiateDataIngestion\u001B[39m(\u001B[38;5;28mself\u001B[39m):\n\u001B[0;32m      6\u001B[0m     \u001B[38;5;28;01mtry\u001B[39;00m:\n\u001B[1;32m----> 7\u001B[0m         data \u001B[38;5;241m=\u001B[39m \u001B[43mget_mongoData\u001B[49m\u001B[43m(\u001B[49m\u001B[43m)\u001B[49m\n\u001B[0;32m      8\u001B[0m         logger\u001B[38;5;241m.\u001B[39minfo(\u001B[38;5;124m\"\u001B[39m\u001B[38;5;124mReading Completed from MongoDB\u001B[39m\u001B[38;5;124m\"\u001B[39m)\n\u001B[0;32m      9\u001B[0m         logger\u001B[38;5;241m.\u001B[39minfo(\u001B[38;5;124m\"\u001B[39m\u001B[38;5;124mWriting data in Parquet file\u001B[39m\u001B[38;5;124m\"\u001B[39m)\n",
      "File \u001B[1;32mD:\\HourlyConsumptiomXGboost\\venv\\Lib\\site-packages\\ensure\\main.py:835\u001B[0m, in \u001B[0;36mWrappedFunction.__call__\u001B[1;34m(self, *args, **kwargs)\u001B[0m\n\u001B[0;32m    832\u001B[0m         msg \u001B[38;5;241m=\u001B[39m \u001B[38;5;124m\"\u001B[39m\u001B[38;5;124mArgument \u001B[39m\u001B[38;5;132;01m{arg}\u001B[39;00m\u001B[38;5;124m of type \u001B[39m\u001B[38;5;132;01m{valt}\u001B[39;00m\u001B[38;5;124m to \u001B[39m\u001B[38;5;132;01m{f}\u001B[39;00m\u001B[38;5;124m \u001B[39m\u001B[38;5;124m\"\u001B[39m \u001B[38;5;124m\"\u001B[39m\u001B[38;5;124mdoes not match annotation type \u001B[39m\u001B[38;5;132;01m{t}\u001B[39;00m\u001B[38;5;124m\"\u001B[39m\n\u001B[0;32m    833\u001B[0m         \u001B[38;5;28;01mraise\u001B[39;00m EnsureError(msg\u001B[38;5;241m.\u001B[39mformat(arg\u001B[38;5;241m=\u001B[39marg, f\u001B[38;5;241m=\u001B[39m\u001B[38;5;28mself\u001B[39m\u001B[38;5;241m.\u001B[39mf, t\u001B[38;5;241m=\u001B[39mtempl, valt\u001B[38;5;241m=\u001B[39m\u001B[38;5;28mtype\u001B[39m(value)))\n\u001B[1;32m--> 835\u001B[0m \u001B[38;5;28;01mreturn\u001B[39;00m \u001B[38;5;28;43mself\u001B[39;49m\u001B[38;5;241;43m.\u001B[39;49m\u001B[43mf\u001B[49m\u001B[43m(\u001B[49m\u001B[38;5;241;43m*\u001B[39;49m\u001B[43margs\u001B[49m\u001B[43m,\u001B[49m\u001B[43m \u001B[49m\u001B[38;5;241;43m*\u001B[39;49m\u001B[38;5;241;43m*\u001B[39;49m\u001B[43mkwargs\u001B[49m\u001B[43m)\u001B[49m\n",
      "File \u001B[1;32mD:\\HourlyConsumptiomXGboost\\src\\mlProject\\utils\\common.py:176\u001B[0m, in \u001B[0;36mget_mongoData\u001B[1;34m()\u001B[0m\n\u001B[0;32m    169\u001B[0m data \u001B[38;5;241m=\u001B[39m collection\u001B[38;5;241m.\u001B[39mfind(filter_query,\n\u001B[0;32m    170\u001B[0m                        {\u001B[38;5;124m\"\u001B[39m\u001B[38;5;124mlocation_id\u001B[39m\u001B[38;5;124m\"\u001B[39m: \u001B[38;5;241m1\u001B[39m, \u001B[38;5;124m\"\u001B[39m\u001B[38;5;124mdata.meter_sr_no\u001B[39m\u001B[38;5;124m\"\u001B[39m: \u001B[38;5;241m1\u001B[39m, \u001B[38;5;124m\"\u001B[39m\u001B[38;5;124mdata.creation_time\u001B[39m\u001B[38;5;124m\"\u001B[39m: \u001B[38;5;241m1\u001B[39m,\n\u001B[0;32m    171\u001B[0m                         \u001B[38;5;124m\"\u001B[39m\u001B[38;5;124mdata.grid_reading_kwh\u001B[39m\u001B[38;5;124m\"\u001B[39m: \u001B[38;5;241m1\u001B[39m, \u001B[38;5;124m\"\u001B[39m\u001B[38;5;124mdata.grid_kwh_unit\u001B[39m\u001B[38;5;124m\"\u001B[39m: \u001B[38;5;241m1\u001B[39m, \u001B[38;5;124m\"\u001B[39m\u001B[38;5;124mdata.status\u001B[39m\u001B[38;5;124m\"\u001B[39m: \u001B[38;5;241m1\u001B[39m, \u001B[38;5;124m\"\u001B[39m\u001B[38;5;124mdata.error_reason\u001B[39m\u001B[38;5;124m\"\u001B[39m: \u001B[38;5;241m1\u001B[39m\n\u001B[0;32m    172\u001B[0m                         , \u001B[38;5;124m\"\u001B[39m\u001B[38;5;124mdata.R_voltage\u001B[39m\u001B[38;5;124m\"\u001B[39m: \u001B[38;5;241m1\u001B[39m, \u001B[38;5;124m\"\u001B[39m\u001B[38;5;124mdata.Y_voltage\u001B[39m\u001B[38;5;124m\"\u001B[39m: \u001B[38;5;241m1\u001B[39m, \u001B[38;5;124m\"\u001B[39m\u001B[38;5;124mdata.B_voltage\u001B[39m\u001B[38;5;124m\"\u001B[39m: \u001B[38;5;241m1\u001B[39m, \u001B[38;5;124m\"\u001B[39m\u001B[38;5;124mdata.r_current\u001B[39m\u001B[38;5;124m\"\u001B[39m: \u001B[38;5;241m1\u001B[39m\n\u001B[0;32m    173\u001B[0m , \u001B[38;5;124m\"\u001B[39m\u001B[38;5;124mdata.y_current\u001B[39m\u001B[38;5;124m\"\u001B[39m: \u001B[38;5;241m1\u001B[39m, \u001B[38;5;124m\"\u001B[39m\u001B[38;5;124mdata.b_current\u001B[39m\u001B[38;5;124m\"\u001B[39m: \u001B[38;5;241m1\u001B[39m, \u001B[38;5;124m\"\u001B[39m\u001B[38;5;124mdata.cumm_pf\u001B[39m\u001B[38;5;124m\"\u001B[39m: \u001B[38;5;241m1\u001B[39m, \u001B[38;5;124m\"\u001B[39m\u001B[38;5;124mdata.instant_cum_Kw\u001B[39m\u001B[38;5;124m\"\u001B[39m: \u001B[38;5;241m1\u001B[39m, \u001B[38;5;124m\"\u001B[39m\u001B[38;5;124mdata.frequency\u001B[39m\u001B[38;5;124m\"\u001B[39m: \u001B[38;5;241m1\u001B[39m})\u001B[38;5;241m.\u001B[39mlimit(\u001B[38;5;241m29289696\u001B[39m)\n\u001B[0;32m    174\u001B[0m dataList \u001B[38;5;241m=\u001B[39m []\n\u001B[1;32m--> 176\u001B[0m \u001B[43m\u001B[49m\u001B[38;5;28;43;01mfor\u001B[39;49;00m\u001B[43m \u001B[49m\u001B[43mdoc\u001B[49m\u001B[43m \u001B[49m\u001B[38;5;129;43;01min\u001B[39;49;00m\u001B[43m \u001B[49m\u001B[43mdata\u001B[49m\u001B[43m:\u001B[49m\n\u001B[0;32m    177\u001B[0m \u001B[43m    \u001B[49m\u001B[43mlocation_id\u001B[49m\u001B[43m \u001B[49m\u001B[38;5;241;43m=\u001B[39;49m\u001B[43m \u001B[49m\u001B[43mdoc\u001B[49m\u001B[43m[\u001B[49m\u001B[38;5;124;43m\"\u001B[39;49m\u001B[38;5;124;43mlocation_id\u001B[39;49m\u001B[38;5;124;43m\"\u001B[39;49m\u001B[43m]\u001B[49m\n\u001B[0;32m    178\u001B[0m \u001B[43m    \u001B[49m\u001B[43mcreation_time\u001B[49m\u001B[43m \u001B[49m\u001B[38;5;241;43m=\u001B[39;49m\u001B[43m \u001B[49m\u001B[43mdoc\u001B[49m\u001B[43m[\u001B[49m\u001B[38;5;124;43m\"\u001B[39;49m\u001B[38;5;124;43mdata\u001B[39;49m\u001B[38;5;124;43m\"\u001B[39;49m\u001B[43m]\u001B[49m\u001B[43m[\u001B[49m\u001B[38;5;124;43m\"\u001B[39;49m\u001B[38;5;124;43mcreation_time\u001B[39;49m\u001B[38;5;124;43m\"\u001B[39;49m\u001B[43m]\u001B[49m\n",
      "File \u001B[1;32mD:\\HourlyConsumptiomXGboost\\venv\\Lib\\site-packages\\pymongo\\cursor.py:1262\u001B[0m, in \u001B[0;36mCursor.next\u001B[1;34m(self)\u001B[0m\n\u001B[0;32m   1260\u001B[0m \u001B[38;5;28;01mif\u001B[39;00m \u001B[38;5;28mself\u001B[39m\u001B[38;5;241m.\u001B[39m__empty:\n\u001B[0;32m   1261\u001B[0m     \u001B[38;5;28;01mraise\u001B[39;00m \u001B[38;5;167;01mStopIteration\u001B[39;00m\n\u001B[1;32m-> 1262\u001B[0m \u001B[38;5;28;01mif\u001B[39;00m \u001B[38;5;28mlen\u001B[39m(\u001B[38;5;28mself\u001B[39m\u001B[38;5;241m.\u001B[39m__data) \u001B[38;5;129;01mor\u001B[39;00m \u001B[38;5;28;43mself\u001B[39;49m\u001B[38;5;241;43m.\u001B[39;49m\u001B[43m_refresh\u001B[49m\u001B[43m(\u001B[49m\u001B[43m)\u001B[49m:\n\u001B[0;32m   1263\u001B[0m     \u001B[38;5;28;01mreturn\u001B[39;00m \u001B[38;5;28mself\u001B[39m\u001B[38;5;241m.\u001B[39m__data\u001B[38;5;241m.\u001B[39mpopleft()\n\u001B[0;32m   1264\u001B[0m \u001B[38;5;28;01melse\u001B[39;00m:\n",
      "File \u001B[1;32mD:\\HourlyConsumptiomXGboost\\venv\\Lib\\site-packages\\pymongo\\cursor.py:1202\u001B[0m, in \u001B[0;36mCursor._refresh\u001B[1;34m(self)\u001B[0m\n\u001B[0;32m   1187\u001B[0m     \u001B[38;5;66;03m# Exhaust cursors don't send getMore messages.\u001B[39;00m\n\u001B[0;32m   1188\u001B[0m     g \u001B[38;5;241m=\u001B[39m \u001B[38;5;28mself\u001B[39m\u001B[38;5;241m.\u001B[39m_getmore_class(\n\u001B[0;32m   1189\u001B[0m         \u001B[38;5;28mself\u001B[39m\u001B[38;5;241m.\u001B[39m__dbname,\n\u001B[0;32m   1190\u001B[0m         \u001B[38;5;28mself\u001B[39m\u001B[38;5;241m.\u001B[39m__collname,\n\u001B[1;32m   (...)\u001B[0m\n\u001B[0;32m   1200\u001B[0m         \u001B[38;5;28mself\u001B[39m\u001B[38;5;241m.\u001B[39m__comment,\n\u001B[0;32m   1201\u001B[0m     )\n\u001B[1;32m-> 1202\u001B[0m     \u001B[38;5;28;43mself\u001B[39;49m\u001B[38;5;241;43m.\u001B[39;49m\u001B[43m__send_message\u001B[49m\u001B[43m(\u001B[49m\u001B[43mg\u001B[49m\u001B[43m)\u001B[49m\n\u001B[0;32m   1204\u001B[0m \u001B[38;5;28;01mreturn\u001B[39;00m \u001B[38;5;28mlen\u001B[39m(\u001B[38;5;28mself\u001B[39m\u001B[38;5;241m.\u001B[39m__data)\n",
      "File \u001B[1;32mD:\\HourlyConsumptiomXGboost\\venv\\Lib\\site-packages\\pymongo\\cursor.py:1060\u001B[0m, in \u001B[0;36mCursor.__send_message\u001B[1;34m(self, operation)\u001B[0m\n\u001B[0;32m   1057\u001B[0m     \u001B[38;5;28;01mraise\u001B[39;00m InvalidOperation(\u001B[38;5;124m\"\u001B[39m\u001B[38;5;124mexhaust cursors do not support auto encryption\u001B[39m\u001B[38;5;124m\"\u001B[39m)\n\u001B[0;32m   1059\u001B[0m \u001B[38;5;28;01mtry\u001B[39;00m:\n\u001B[1;32m-> 1060\u001B[0m     response \u001B[38;5;241m=\u001B[39m \u001B[43mclient\u001B[49m\u001B[38;5;241;43m.\u001B[39;49m\u001B[43m_run_operation\u001B[49m\u001B[43m(\u001B[49m\n\u001B[0;32m   1061\u001B[0m \u001B[43m        \u001B[49m\u001B[43moperation\u001B[49m\u001B[43m,\u001B[49m\u001B[43m \u001B[49m\u001B[38;5;28;43mself\u001B[39;49m\u001B[38;5;241;43m.\u001B[39;49m\u001B[43m_unpack_response\u001B[49m\u001B[43m,\u001B[49m\u001B[43m \u001B[49m\u001B[43maddress\u001B[49m\u001B[38;5;241;43m=\u001B[39;49m\u001B[38;5;28;43mself\u001B[39;49m\u001B[38;5;241;43m.\u001B[39;49m\u001B[43m__address\u001B[49m\n\u001B[0;32m   1062\u001B[0m \u001B[43m    \u001B[49m\u001B[43m)\u001B[49m\n\u001B[0;32m   1063\u001B[0m \u001B[38;5;28;01mexcept\u001B[39;00m OperationFailure \u001B[38;5;28;01mas\u001B[39;00m exc:\n\u001B[0;32m   1064\u001B[0m     \u001B[38;5;28;01mif\u001B[39;00m exc\u001B[38;5;241m.\u001B[39mcode \u001B[38;5;129;01min\u001B[39;00m _CURSOR_CLOSED_ERRORS \u001B[38;5;129;01mor\u001B[39;00m \u001B[38;5;28mself\u001B[39m\u001B[38;5;241m.\u001B[39m__exhaust:\n\u001B[0;32m   1065\u001B[0m         \u001B[38;5;66;03m# Don't send killCursors because the cursor is already closed.\u001B[39;00m\n",
      "File \u001B[1;32mD:\\HourlyConsumptiomXGboost\\venv\\Lib\\site-packages\\pymongo\\_csot.py:108\u001B[0m, in \u001B[0;36mapply.<locals>.csot_wrapper\u001B[1;34m(self, *args, **kwargs)\u001B[0m\n\u001B[0;32m    106\u001B[0m         \u001B[38;5;28;01mwith\u001B[39;00m _TimeoutContext(timeout):\n\u001B[0;32m    107\u001B[0m             \u001B[38;5;28;01mreturn\u001B[39;00m func(\u001B[38;5;28mself\u001B[39m, \u001B[38;5;241m*\u001B[39margs, \u001B[38;5;241m*\u001B[39m\u001B[38;5;241m*\u001B[39mkwargs)\n\u001B[1;32m--> 108\u001B[0m \u001B[38;5;28;01mreturn\u001B[39;00m \u001B[43mfunc\u001B[49m\u001B[43m(\u001B[49m\u001B[38;5;28;43mself\u001B[39;49m\u001B[43m,\u001B[49m\u001B[43m \u001B[49m\u001B[38;5;241;43m*\u001B[39;49m\u001B[43margs\u001B[49m\u001B[43m,\u001B[49m\u001B[43m \u001B[49m\u001B[38;5;241;43m*\u001B[39;49m\u001B[38;5;241;43m*\u001B[39;49m\u001B[43mkwargs\u001B[49m\u001B[43m)\u001B[49m\n",
      "File \u001B[1;32mD:\\HourlyConsumptiomXGboost\\venv\\Lib\\site-packages\\pymongo\\mongo_client.py:1388\u001B[0m, in \u001B[0;36mMongoClient._run_operation\u001B[1;34m(self, operation, unpack_res, address)\u001B[0m\n\u001B[0;32m   1383\u001B[0m     operation\u001B[38;5;241m.\u001B[39mreset()  \u001B[38;5;66;03m# Reset op in case of retry.\u001B[39;00m\n\u001B[0;32m   1384\u001B[0m     \u001B[38;5;28;01mreturn\u001B[39;00m server\u001B[38;5;241m.\u001B[39mrun_operation(\n\u001B[0;32m   1385\u001B[0m         conn, operation, read_preference, \u001B[38;5;28mself\u001B[39m\u001B[38;5;241m.\u001B[39m_event_listeners, unpack_res\n\u001B[0;32m   1386\u001B[0m     )\n\u001B[1;32m-> 1388\u001B[0m \u001B[38;5;28;01mreturn\u001B[39;00m \u001B[38;5;28;43mself\u001B[39;49m\u001B[38;5;241;43m.\u001B[39;49m\u001B[43m_retryable_read\u001B[49m\u001B[43m(\u001B[49m\n\u001B[0;32m   1389\u001B[0m \u001B[43m    \u001B[49m\u001B[43m_cmd\u001B[49m\u001B[43m,\u001B[49m\n\u001B[0;32m   1390\u001B[0m \u001B[43m    \u001B[49m\u001B[43moperation\u001B[49m\u001B[38;5;241;43m.\u001B[39;49m\u001B[43mread_preference\u001B[49m\u001B[43m,\u001B[49m\n\u001B[0;32m   1391\u001B[0m \u001B[43m    \u001B[49m\u001B[43moperation\u001B[49m\u001B[38;5;241;43m.\u001B[39;49m\u001B[43msession\u001B[49m\u001B[43m,\u001B[49m\n\u001B[0;32m   1392\u001B[0m \u001B[43m    \u001B[49m\u001B[43maddress\u001B[49m\u001B[38;5;241;43m=\u001B[39;49m\u001B[43maddress\u001B[49m\u001B[43m,\u001B[49m\n\u001B[0;32m   1393\u001B[0m \u001B[43m    \u001B[49m\u001B[43mretryable\u001B[49m\u001B[38;5;241;43m=\u001B[39;49m\u001B[38;5;28;43misinstance\u001B[39;49m\u001B[43m(\u001B[49m\u001B[43moperation\u001B[49m\u001B[43m,\u001B[49m\u001B[43m \u001B[49m\u001B[43mmessage\u001B[49m\u001B[38;5;241;43m.\u001B[39;49m\u001B[43m_Query\u001B[49m\u001B[43m)\u001B[49m\u001B[43m,\u001B[49m\n\u001B[0;32m   1394\u001B[0m \u001B[43m\u001B[49m\u001B[43m)\u001B[49m\n",
      "File \u001B[1;32mD:\\HourlyConsumptiomXGboost\\venv\\Lib\\site-packages\\pymongo\\_csot.py:108\u001B[0m, in \u001B[0;36mapply.<locals>.csot_wrapper\u001B[1;34m(self, *args, **kwargs)\u001B[0m\n\u001B[0;32m    106\u001B[0m         \u001B[38;5;28;01mwith\u001B[39;00m _TimeoutContext(timeout):\n\u001B[0;32m    107\u001B[0m             \u001B[38;5;28;01mreturn\u001B[39;00m func(\u001B[38;5;28mself\u001B[39m, \u001B[38;5;241m*\u001B[39margs, \u001B[38;5;241m*\u001B[39m\u001B[38;5;241m*\u001B[39mkwargs)\n\u001B[1;32m--> 108\u001B[0m \u001B[38;5;28;01mreturn\u001B[39;00m \u001B[43mfunc\u001B[49m\u001B[43m(\u001B[49m\u001B[38;5;28;43mself\u001B[39;49m\u001B[43m,\u001B[49m\u001B[43m \u001B[49m\u001B[38;5;241;43m*\u001B[39;49m\u001B[43margs\u001B[49m\u001B[43m,\u001B[49m\u001B[43m \u001B[49m\u001B[38;5;241;43m*\u001B[39;49m\u001B[38;5;241;43m*\u001B[39;49m\u001B[43mkwargs\u001B[49m\u001B[43m)\u001B[49m\n",
      "File \u001B[1;32mD:\\HourlyConsumptiomXGboost\\venv\\Lib\\site-packages\\pymongo\\mongo_client.py:1535\u001B[0m, in \u001B[0;36mMongoClient._retryable_read\u001B[1;34m(self, func, read_pref, session, address, retryable)\u001B[0m\n\u001B[0;32m   1533\u001B[0m             \u001B[38;5;28;01massert\u001B[39;00m last_error \u001B[38;5;129;01mis\u001B[39;00m \u001B[38;5;129;01mnot\u001B[39;00m \u001B[38;5;28;01mNone\u001B[39;00m\n\u001B[0;32m   1534\u001B[0m             \u001B[38;5;28;01mraise\u001B[39;00m last_error\n\u001B[1;32m-> 1535\u001B[0m         \u001B[38;5;28;01mreturn\u001B[39;00m \u001B[43mfunc\u001B[49m\u001B[43m(\u001B[49m\u001B[43msession\u001B[49m\u001B[43m,\u001B[49m\u001B[43m \u001B[49m\u001B[43mserver\u001B[49m\u001B[43m,\u001B[49m\u001B[43m \u001B[49m\u001B[43mconn\u001B[49m\u001B[43m,\u001B[49m\u001B[43m \u001B[49m\u001B[43mread_pref\u001B[49m\u001B[43m)\u001B[49m\n\u001B[0;32m   1536\u001B[0m \u001B[38;5;28;01mexcept\u001B[39;00m ServerSelectionTimeoutError:\n\u001B[0;32m   1537\u001B[0m     \u001B[38;5;28;01mif\u001B[39;00m retrying:\n\u001B[0;32m   1538\u001B[0m         \u001B[38;5;66;03m# The application may think the write was never attempted\u001B[39;00m\n\u001B[0;32m   1539\u001B[0m         \u001B[38;5;66;03m# if we raise ServerSelectionTimeoutError on the retry\u001B[39;00m\n\u001B[0;32m   1540\u001B[0m         \u001B[38;5;66;03m# attempt. Raise the original exception instead.\u001B[39;00m\n",
      "File \u001B[1;32mD:\\HourlyConsumptiomXGboost\\venv\\Lib\\site-packages\\pymongo\\mongo_client.py:1384\u001B[0m, in \u001B[0;36mMongoClient._run_operation.<locals>._cmd\u001B[1;34m(session, server, conn, read_preference)\u001B[0m\n\u001B[0;32m   1377\u001B[0m \u001B[38;5;28;01mdef\u001B[39;00m \u001B[38;5;21m_cmd\u001B[39m(\n\u001B[0;32m   1378\u001B[0m     session: Optional[ClientSession],\n\u001B[0;32m   1379\u001B[0m     server: Server,\n\u001B[0;32m   1380\u001B[0m     conn: Connection,\n\u001B[0;32m   1381\u001B[0m     read_preference: _ServerMode,\n\u001B[0;32m   1382\u001B[0m ) \u001B[38;5;241m-\u001B[39m\u001B[38;5;241m>\u001B[39m Response:\n\u001B[0;32m   1383\u001B[0m     operation\u001B[38;5;241m.\u001B[39mreset()  \u001B[38;5;66;03m# Reset op in case of retry.\u001B[39;00m\n\u001B[1;32m-> 1384\u001B[0m     \u001B[38;5;28;01mreturn\u001B[39;00m \u001B[43mserver\u001B[49m\u001B[38;5;241;43m.\u001B[39;49m\u001B[43mrun_operation\u001B[49m\u001B[43m(\u001B[49m\n\u001B[0;32m   1385\u001B[0m \u001B[43m        \u001B[49m\u001B[43mconn\u001B[49m\u001B[43m,\u001B[49m\u001B[43m \u001B[49m\u001B[43moperation\u001B[49m\u001B[43m,\u001B[49m\u001B[43m \u001B[49m\u001B[43mread_preference\u001B[49m\u001B[43m,\u001B[49m\u001B[43m \u001B[49m\u001B[38;5;28;43mself\u001B[39;49m\u001B[38;5;241;43m.\u001B[39;49m\u001B[43m_event_listeners\u001B[49m\u001B[43m,\u001B[49m\u001B[43m \u001B[49m\u001B[43munpack_res\u001B[49m\n\u001B[0;32m   1386\u001B[0m \u001B[43m    \u001B[49m\u001B[43m)\u001B[49m\n",
      "File \u001B[1;32mD:\\HourlyConsumptiomXGboost\\venv\\Lib\\site-packages\\pymongo\\helpers.py:315\u001B[0m, in \u001B[0;36m_handle_reauth.<locals>.inner\u001B[1;34m(*args, **kwargs)\u001B[0m\n\u001B[0;32m    312\u001B[0m \u001B[38;5;28;01mfrom\u001B[39;00m \u001B[38;5;21;01mpymongo\u001B[39;00m\u001B[38;5;21;01m.\u001B[39;00m\u001B[38;5;21;01mpool\u001B[39;00m \u001B[38;5;28;01mimport\u001B[39;00m Connection\n\u001B[0;32m    314\u001B[0m \u001B[38;5;28;01mtry\u001B[39;00m:\n\u001B[1;32m--> 315\u001B[0m     \u001B[38;5;28;01mreturn\u001B[39;00m \u001B[43mfunc\u001B[49m\u001B[43m(\u001B[49m\u001B[38;5;241;43m*\u001B[39;49m\u001B[43margs\u001B[49m\u001B[43m,\u001B[49m\u001B[43m \u001B[49m\u001B[38;5;241;43m*\u001B[39;49m\u001B[38;5;241;43m*\u001B[39;49m\u001B[43mkwargs\u001B[49m\u001B[43m)\u001B[49m\n\u001B[0;32m    316\u001B[0m \u001B[38;5;28;01mexcept\u001B[39;00m OperationFailure \u001B[38;5;28;01mas\u001B[39;00m exc:\n\u001B[0;32m    317\u001B[0m     \u001B[38;5;28;01mif\u001B[39;00m no_reauth:\n",
      "File \u001B[1;32mD:\\HourlyConsumptiomXGboost\\venv\\Lib\\site-packages\\pymongo\\server.py:155\u001B[0m, in \u001B[0;36mServer.run_operation\u001B[1;34m(self, conn, operation, read_preference, listeners, unpack_res)\u001B[0m\n\u001B[0;32m    153\u001B[0m \u001B[38;5;28;01melse\u001B[39;00m:\n\u001B[0;32m    154\u001B[0m     conn\u001B[38;5;241m.\u001B[39msend_message(data, max_doc_size)\n\u001B[1;32m--> 155\u001B[0m     reply \u001B[38;5;241m=\u001B[39m \u001B[43mconn\u001B[49m\u001B[38;5;241;43m.\u001B[39;49m\u001B[43mreceive_message\u001B[49m\u001B[43m(\u001B[49m\u001B[43mrequest_id\u001B[49m\u001B[43m)\u001B[49m\n\u001B[0;32m    157\u001B[0m \u001B[38;5;66;03m# Unpack and check for command errors.\u001B[39;00m\n\u001B[0;32m    158\u001B[0m \u001B[38;5;28;01mif\u001B[39;00m use_cmd:\n",
      "File \u001B[1;32mD:\\HourlyConsumptiomXGboost\\venv\\Lib\\site-packages\\pymongo\\pool.py:986\u001B[0m, in \u001B[0;36mConnection.receive_message\u001B[1;34m(self, request_id)\u001B[0m\n\u001B[0;32m    984\u001B[0m     \u001B[38;5;28;01mreturn\u001B[39;00m receive_message(\u001B[38;5;28mself\u001B[39m, request_id, \u001B[38;5;28mself\u001B[39m\u001B[38;5;241m.\u001B[39mmax_message_size)\n\u001B[0;32m    985\u001B[0m \u001B[38;5;28;01mexcept\u001B[39;00m \u001B[38;5;167;01mBaseException\u001B[39;00m \u001B[38;5;28;01mas\u001B[39;00m error:\n\u001B[1;32m--> 986\u001B[0m     \u001B[38;5;28;43mself\u001B[39;49m\u001B[38;5;241;43m.\u001B[39;49m\u001B[43m_raise_connection_failure\u001B[49m\u001B[43m(\u001B[49m\u001B[43merror\u001B[49m\u001B[43m)\u001B[49m\n",
      "File \u001B[1;32mD:\\HourlyConsumptiomXGboost\\venv\\Lib\\site-packages\\pymongo\\pool.py:984\u001B[0m, in \u001B[0;36mConnection.receive_message\u001B[1;34m(self, request_id)\u001B[0m\n\u001B[0;32m    979\u001B[0m \u001B[38;5;250m\u001B[39m\u001B[38;5;124;03m\"\"\"Receive a raw BSON message or raise ConnectionFailure.\u001B[39;00m\n\u001B[0;32m    980\u001B[0m \n\u001B[0;32m    981\u001B[0m \u001B[38;5;124;03mIf any exception is raised, the socket is closed.\u001B[39;00m\n\u001B[0;32m    982\u001B[0m \u001B[38;5;124;03m\"\"\"\u001B[39;00m\n\u001B[0;32m    983\u001B[0m \u001B[38;5;28;01mtry\u001B[39;00m:\n\u001B[1;32m--> 984\u001B[0m     \u001B[38;5;28;01mreturn\u001B[39;00m \u001B[43mreceive_message\u001B[49m\u001B[43m(\u001B[49m\u001B[38;5;28;43mself\u001B[39;49m\u001B[43m,\u001B[49m\u001B[43m \u001B[49m\u001B[43mrequest_id\u001B[49m\u001B[43m,\u001B[49m\u001B[43m \u001B[49m\u001B[38;5;28;43mself\u001B[39;49m\u001B[38;5;241;43m.\u001B[39;49m\u001B[43mmax_message_size\u001B[49m\u001B[43m)\u001B[49m\n\u001B[0;32m    985\u001B[0m \u001B[38;5;28;01mexcept\u001B[39;00m \u001B[38;5;167;01mBaseException\u001B[39;00m \u001B[38;5;28;01mas\u001B[39;00m error:\n\u001B[0;32m    986\u001B[0m     \u001B[38;5;28mself\u001B[39m\u001B[38;5;241m.\u001B[39m_raise_connection_failure(error)\n",
      "File \u001B[1;32mD:\\HourlyConsumptiomXGboost\\venv\\Lib\\site-packages\\pymongo\\network.py:267\u001B[0m, in \u001B[0;36mreceive_message\u001B[1;34m(conn, request_id, max_message_size)\u001B[0m\n\u001B[0;32m    265\u001B[0m     data \u001B[38;5;241m=\u001B[39m decompress(_receive_data_on_socket(conn, length \u001B[38;5;241m-\u001B[39m \u001B[38;5;241m25\u001B[39m, deadline), compressor_id)\n\u001B[0;32m    266\u001B[0m \u001B[38;5;28;01melse\u001B[39;00m:\n\u001B[1;32m--> 267\u001B[0m     data \u001B[38;5;241m=\u001B[39m \u001B[43m_receive_data_on_socket\u001B[49m\u001B[43m(\u001B[49m\u001B[43mconn\u001B[49m\u001B[43m,\u001B[49m\u001B[43m \u001B[49m\u001B[43mlength\u001B[49m\u001B[43m \u001B[49m\u001B[38;5;241;43m-\u001B[39;49m\u001B[43m \u001B[49m\u001B[38;5;241;43m16\u001B[39;49m\u001B[43m,\u001B[49m\u001B[43m \u001B[49m\u001B[43mdeadline\u001B[49m\u001B[43m)\u001B[49m\n\u001B[0;32m    269\u001B[0m \u001B[38;5;28;01mtry\u001B[39;00m:\n\u001B[0;32m    270\u001B[0m     unpack_reply \u001B[38;5;241m=\u001B[39m _UNPACK_REPLY[op_code]\n",
      "File \u001B[1;32mD:\\HourlyConsumptiomXGboost\\venv\\Lib\\site-packages\\pymongo\\network.py:328\u001B[0m, in \u001B[0;36m_receive_data_on_socket\u001B[1;34m(conn, length, deadline)\u001B[0m\n\u001B[0;32m    326\u001B[0m     \u001B[38;5;28;01mif\u001B[39;00m _csot\u001B[38;5;241m.\u001B[39mget_timeout() \u001B[38;5;129;01mand\u001B[39;00m deadline \u001B[38;5;129;01mis\u001B[39;00m \u001B[38;5;129;01mnot\u001B[39;00m \u001B[38;5;28;01mNone\u001B[39;00m:\n\u001B[0;32m    327\u001B[0m         conn\u001B[38;5;241m.\u001B[39mset_conn_timeout(\u001B[38;5;28mmax\u001B[39m(deadline \u001B[38;5;241m-\u001B[39m time\u001B[38;5;241m.\u001B[39mmonotonic(), \u001B[38;5;241m0\u001B[39m))\n\u001B[1;32m--> 328\u001B[0m     chunk_length \u001B[38;5;241m=\u001B[39m \u001B[43mconn\u001B[49m\u001B[38;5;241;43m.\u001B[39;49m\u001B[43mconn\u001B[49m\u001B[38;5;241;43m.\u001B[39;49m\u001B[43mrecv_into\u001B[49m\u001B[43m(\u001B[49m\u001B[43mmv\u001B[49m\u001B[43m[\u001B[49m\u001B[43mbytes_read\u001B[49m\u001B[43m:\u001B[49m\u001B[43m]\u001B[49m\u001B[43m)\u001B[49m\n\u001B[0;32m    329\u001B[0m \u001B[38;5;28;01mexcept\u001B[39;00m BLOCKING_IO_ERRORS:\n\u001B[0;32m    330\u001B[0m     \u001B[38;5;28;01mraise\u001B[39;00m socket\u001B[38;5;241m.\u001B[39mtimeout(\u001B[38;5;124m\"\u001B[39m\u001B[38;5;124mtimed out\u001B[39m\u001B[38;5;124m\"\u001B[39m)\n",
      "\u001B[1;31mKeyboardInterrupt\u001B[0m: "
     ]
    }
   ],
   "source": [
    "try:\n",
    "    config = ConfigurationManager()\n",
    "    data_ingestion_config = config.get_data_ingestion_config()\n",
    "    data_ingestion = DataIngestion(config=data_ingestion_config)\n",
    "    data_ingestion.initiateDataIngestion()\n",
    "    # data_ingestion.extract_zip_file()\n",
    "except Exception as e:\n",
    "    raise e"
   ]
  },
  {
   "cell_type": "code",
   "execution_count": 2,
   "outputs": [],
   "source": [
    "import os"
   ],
   "metadata": {
    "collapsed": false,
    "ExecuteTime": {
     "end_time": "2023-11-14T18:19:12.095886300Z",
     "start_time": "2023-11-14T18:19:12.083225600Z"
    }
   },
   "id": "7e271ee1b672fa87"
  },
  {
   "cell_type": "markdown",
   "id": "3dba315d03b3d7e8",
   "metadata": {
    "collapsed": false
   },
   "source": [
    "   "
   ]
  },
  {
   "cell_type": "code",
   "execution_count": 3,
   "id": "5acbe217464d7ff2",
   "metadata": {
    "collapsed": false,
    "ExecuteTime": {
     "end_time": "2023-11-14T18:19:15.653506100Z",
     "start_time": "2023-11-14T18:19:15.649994700Z"
    }
   },
   "outputs": [],
   "source": [
    "\n",
    "os.environ[\"MLFLOW_TRACKING_URI\"]=\"https://dagshub.com/bhattshubham1401/HourlyConsumptionPredN.mlflow\"\n",
    "os.environ[\"MLFLOW_TRACKING_USERNAME\"]=\"bhattshubham1401\"\n",
    "os.environ[\"MLFLOW_TRACKING_PASSWORD\"]=\"be6bd2c38bbcc62d1ddea7c7489e2e83e67ec230\""
   ]
  },
  {
   "cell_type": "code",
   "execution_count": 1,
   "outputs": [
    {
     "ename": "TypeError",
     "evalue": "object of type 'float' has no len()",
     "output_type": "error",
     "traceback": [
      "\u001B[1;31m---------------------------------------------------------------------------\u001B[0m",
      "\u001B[1;31mTypeError\u001B[0m                                 Traceback (most recent call last)",
      "Cell \u001B[1;32mIn[1], line 30\u001B[0m\n\u001B[0;32m     27\u001B[0m     \u001B[38;5;28;01mreturn\u001B[39;00m np\u001B[38;5;241m.\u001B[39mconcatenate([amplitudes, phases])\n\u001B[0;32m     29\u001B[0m \u001B[38;5;66;03m# Apply harmonics calculation to voltage and current columns\u001B[39;00m\n\u001B[1;32m---> 30\u001B[0m df[\u001B[38;5;124m'\u001B[39m\u001B[38;5;124mvoltage_harmonics\u001B[39m\u001B[38;5;124m'\u001B[39m] \u001B[38;5;241m=\u001B[39m \u001B[43mdf\u001B[49m\u001B[43m[\u001B[49m\u001B[38;5;124;43m'\u001B[39;49m\u001B[38;5;124;43mvoltage\u001B[39;49m\u001B[38;5;124;43m'\u001B[39;49m\u001B[43m]\u001B[49m\u001B[38;5;241;43m.\u001B[39;49m\u001B[43mapply\u001B[49m\u001B[43m(\u001B[49m\u001B[43mcalculate_harmonics\u001B[49m\u001B[43m)\u001B[49m\n\u001B[0;32m     31\u001B[0m df[\u001B[38;5;124m'\u001B[39m\u001B[38;5;124mcurrent_harmonics\u001B[39m\u001B[38;5;124m'\u001B[39m] \u001B[38;5;241m=\u001B[39m df[\u001B[38;5;124m'\u001B[39m\u001B[38;5;124mcurrent\u001B[39m\u001B[38;5;124m'\u001B[39m]\u001B[38;5;241m.\u001B[39mapply(calculate_harmonics)\n\u001B[0;32m     33\u001B[0m \u001B[38;5;66;03m# Create the new DataFrame with harmonics and appliances\u001B[39;00m\n",
      "File \u001B[1;32m~\\venv\\Lib\\site-packages\\pandas\\core\\series.py:4760\u001B[0m, in \u001B[0;36mSeries.apply\u001B[1;34m(self, func, convert_dtype, args, by_row, **kwargs)\u001B[0m\n\u001B[0;32m   4625\u001B[0m \u001B[38;5;28;01mdef\u001B[39;00m \u001B[38;5;21mapply\u001B[39m(\n\u001B[0;32m   4626\u001B[0m     \u001B[38;5;28mself\u001B[39m,\n\u001B[0;32m   4627\u001B[0m     func: AggFuncType,\n\u001B[1;32m   (...)\u001B[0m\n\u001B[0;32m   4632\u001B[0m     \u001B[38;5;241m*\u001B[39m\u001B[38;5;241m*\u001B[39mkwargs,\n\u001B[0;32m   4633\u001B[0m ) \u001B[38;5;241m-\u001B[39m\u001B[38;5;241m>\u001B[39m DataFrame \u001B[38;5;241m|\u001B[39m Series:\n\u001B[0;32m   4634\u001B[0m \u001B[38;5;250m    \u001B[39m\u001B[38;5;124;03m\"\"\"\u001B[39;00m\n\u001B[0;32m   4635\u001B[0m \u001B[38;5;124;03m    Invoke function on values of Series.\u001B[39;00m\n\u001B[0;32m   4636\u001B[0m \n\u001B[1;32m   (...)\u001B[0m\n\u001B[0;32m   4751\u001B[0m \u001B[38;5;124;03m    dtype: float64\u001B[39;00m\n\u001B[0;32m   4752\u001B[0m \u001B[38;5;124;03m    \"\"\"\u001B[39;00m\n\u001B[0;32m   4753\u001B[0m     \u001B[38;5;28;01mreturn\u001B[39;00m \u001B[43mSeriesApply\u001B[49m\u001B[43m(\u001B[49m\n\u001B[0;32m   4754\u001B[0m \u001B[43m        \u001B[49m\u001B[38;5;28;43mself\u001B[39;49m\u001B[43m,\u001B[49m\n\u001B[0;32m   4755\u001B[0m \u001B[43m        \u001B[49m\u001B[43mfunc\u001B[49m\u001B[43m,\u001B[49m\n\u001B[0;32m   4756\u001B[0m \u001B[43m        \u001B[49m\u001B[43mconvert_dtype\u001B[49m\u001B[38;5;241;43m=\u001B[39;49m\u001B[43mconvert_dtype\u001B[49m\u001B[43m,\u001B[49m\n\u001B[0;32m   4757\u001B[0m \u001B[43m        \u001B[49m\u001B[43mby_row\u001B[49m\u001B[38;5;241;43m=\u001B[39;49m\u001B[43mby_row\u001B[49m\u001B[43m,\u001B[49m\n\u001B[0;32m   4758\u001B[0m \u001B[43m        \u001B[49m\u001B[43margs\u001B[49m\u001B[38;5;241;43m=\u001B[39;49m\u001B[43margs\u001B[49m\u001B[43m,\u001B[49m\n\u001B[0;32m   4759\u001B[0m \u001B[43m        \u001B[49m\u001B[43mkwargs\u001B[49m\u001B[38;5;241;43m=\u001B[39;49m\u001B[43mkwargs\u001B[49m\u001B[43m,\u001B[49m\n\u001B[1;32m-> 4760\u001B[0m \u001B[43m    \u001B[49m\u001B[43m)\u001B[49m\u001B[38;5;241;43m.\u001B[39;49m\u001B[43mapply\u001B[49m\u001B[43m(\u001B[49m\u001B[43m)\u001B[49m\n",
      "File \u001B[1;32m~\\venv\\Lib\\site-packages\\pandas\\core\\apply.py:1207\u001B[0m, in \u001B[0;36mSeriesApply.apply\u001B[1;34m(self)\u001B[0m\n\u001B[0;32m   1204\u001B[0m     \u001B[38;5;28;01mreturn\u001B[39;00m \u001B[38;5;28mself\u001B[39m\u001B[38;5;241m.\u001B[39mapply_compat()\n\u001B[0;32m   1206\u001B[0m \u001B[38;5;66;03m# self.func is Callable\u001B[39;00m\n\u001B[1;32m-> 1207\u001B[0m \u001B[38;5;28;01mreturn\u001B[39;00m \u001B[38;5;28;43mself\u001B[39;49m\u001B[38;5;241;43m.\u001B[39;49m\u001B[43mapply_standard\u001B[49m\u001B[43m(\u001B[49m\u001B[43m)\u001B[49m\n",
      "File \u001B[1;32m~\\venv\\Lib\\site-packages\\pandas\\core\\apply.py:1287\u001B[0m, in \u001B[0;36mSeriesApply.apply_standard\u001B[1;34m(self)\u001B[0m\n\u001B[0;32m   1281\u001B[0m \u001B[38;5;66;03m# row-wise access\u001B[39;00m\n\u001B[0;32m   1282\u001B[0m \u001B[38;5;66;03m# apply doesn't have a `na_action` keyword and for backward compat reasons\u001B[39;00m\n\u001B[0;32m   1283\u001B[0m \u001B[38;5;66;03m# we need to give `na_action=\"ignore\"` for categorical data.\u001B[39;00m\n\u001B[0;32m   1284\u001B[0m \u001B[38;5;66;03m# TODO: remove the `na_action=\"ignore\"` when that default has been changed in\u001B[39;00m\n\u001B[0;32m   1285\u001B[0m \u001B[38;5;66;03m#  Categorical (GH51645).\u001B[39;00m\n\u001B[0;32m   1286\u001B[0m action \u001B[38;5;241m=\u001B[39m \u001B[38;5;124m\"\u001B[39m\u001B[38;5;124mignore\u001B[39m\u001B[38;5;124m\"\u001B[39m \u001B[38;5;28;01mif\u001B[39;00m \u001B[38;5;28misinstance\u001B[39m(obj\u001B[38;5;241m.\u001B[39mdtype, CategoricalDtype) \u001B[38;5;28;01melse\u001B[39;00m \u001B[38;5;28;01mNone\u001B[39;00m\n\u001B[1;32m-> 1287\u001B[0m mapped \u001B[38;5;241m=\u001B[39m \u001B[43mobj\u001B[49m\u001B[38;5;241;43m.\u001B[39;49m\u001B[43m_map_values\u001B[49m\u001B[43m(\u001B[49m\n\u001B[0;32m   1288\u001B[0m \u001B[43m    \u001B[49m\u001B[43mmapper\u001B[49m\u001B[38;5;241;43m=\u001B[39;49m\u001B[43mcurried\u001B[49m\u001B[43m,\u001B[49m\u001B[43m \u001B[49m\u001B[43mna_action\u001B[49m\u001B[38;5;241;43m=\u001B[39;49m\u001B[43maction\u001B[49m\u001B[43m,\u001B[49m\u001B[43m \u001B[49m\u001B[43mconvert\u001B[49m\u001B[38;5;241;43m=\u001B[39;49m\u001B[38;5;28;43mself\u001B[39;49m\u001B[38;5;241;43m.\u001B[39;49m\u001B[43mconvert_dtype\u001B[49m\n\u001B[0;32m   1289\u001B[0m \u001B[43m\u001B[49m\u001B[43m)\u001B[49m\n\u001B[0;32m   1291\u001B[0m \u001B[38;5;28;01mif\u001B[39;00m \u001B[38;5;28mlen\u001B[39m(mapped) \u001B[38;5;129;01mand\u001B[39;00m \u001B[38;5;28misinstance\u001B[39m(mapped[\u001B[38;5;241m0\u001B[39m], ABCSeries):\n\u001B[0;32m   1292\u001B[0m     \u001B[38;5;66;03m# GH#43986 Need to do list(mapped) in order to get treated as nested\u001B[39;00m\n\u001B[0;32m   1293\u001B[0m     \u001B[38;5;66;03m#  See also GH#25959 regarding EA support\u001B[39;00m\n\u001B[0;32m   1294\u001B[0m     \u001B[38;5;28;01mreturn\u001B[39;00m obj\u001B[38;5;241m.\u001B[39m_constructor_expanddim(\u001B[38;5;28mlist\u001B[39m(mapped), index\u001B[38;5;241m=\u001B[39mobj\u001B[38;5;241m.\u001B[39mindex)\n",
      "File \u001B[1;32m~\\venv\\Lib\\site-packages\\pandas\\core\\base.py:921\u001B[0m, in \u001B[0;36mIndexOpsMixin._map_values\u001B[1;34m(self, mapper, na_action, convert)\u001B[0m\n\u001B[0;32m    918\u001B[0m \u001B[38;5;28;01mif\u001B[39;00m \u001B[38;5;28misinstance\u001B[39m(arr, ExtensionArray):\n\u001B[0;32m    919\u001B[0m     \u001B[38;5;28;01mreturn\u001B[39;00m arr\u001B[38;5;241m.\u001B[39mmap(mapper, na_action\u001B[38;5;241m=\u001B[39mna_action)\n\u001B[1;32m--> 921\u001B[0m \u001B[38;5;28;01mreturn\u001B[39;00m \u001B[43malgorithms\u001B[49m\u001B[38;5;241;43m.\u001B[39;49m\u001B[43mmap_array\u001B[49m\u001B[43m(\u001B[49m\u001B[43marr\u001B[49m\u001B[43m,\u001B[49m\u001B[43m \u001B[49m\u001B[43mmapper\u001B[49m\u001B[43m,\u001B[49m\u001B[43m \u001B[49m\u001B[43mna_action\u001B[49m\u001B[38;5;241;43m=\u001B[39;49m\u001B[43mna_action\u001B[49m\u001B[43m,\u001B[49m\u001B[43m \u001B[49m\u001B[43mconvert\u001B[49m\u001B[38;5;241;43m=\u001B[39;49m\u001B[43mconvert\u001B[49m\u001B[43m)\u001B[49m\n",
      "File \u001B[1;32m~\\venv\\Lib\\site-packages\\pandas\\core\\algorithms.py:1814\u001B[0m, in \u001B[0;36mmap_array\u001B[1;34m(arr, mapper, na_action, convert)\u001B[0m\n\u001B[0;32m   1812\u001B[0m values \u001B[38;5;241m=\u001B[39m arr\u001B[38;5;241m.\u001B[39mastype(\u001B[38;5;28mobject\u001B[39m, copy\u001B[38;5;241m=\u001B[39m\u001B[38;5;28;01mFalse\u001B[39;00m)\n\u001B[0;32m   1813\u001B[0m \u001B[38;5;28;01mif\u001B[39;00m na_action \u001B[38;5;129;01mis\u001B[39;00m \u001B[38;5;28;01mNone\u001B[39;00m:\n\u001B[1;32m-> 1814\u001B[0m     \u001B[38;5;28;01mreturn\u001B[39;00m \u001B[43mlib\u001B[49m\u001B[38;5;241;43m.\u001B[39;49m\u001B[43mmap_infer\u001B[49m\u001B[43m(\u001B[49m\u001B[43mvalues\u001B[49m\u001B[43m,\u001B[49m\u001B[43m \u001B[49m\u001B[43mmapper\u001B[49m\u001B[43m,\u001B[49m\u001B[43m \u001B[49m\u001B[43mconvert\u001B[49m\u001B[38;5;241;43m=\u001B[39;49m\u001B[43mconvert\u001B[49m\u001B[43m)\u001B[49m\n\u001B[0;32m   1815\u001B[0m \u001B[38;5;28;01melse\u001B[39;00m:\n\u001B[0;32m   1816\u001B[0m     \u001B[38;5;28;01mreturn\u001B[39;00m lib\u001B[38;5;241m.\u001B[39mmap_infer_mask(\n\u001B[0;32m   1817\u001B[0m         values, mapper, mask\u001B[38;5;241m=\u001B[39misna(values)\u001B[38;5;241m.\u001B[39mview(np\u001B[38;5;241m.\u001B[39muint8), convert\u001B[38;5;241m=\u001B[39mconvert\n\u001B[0;32m   1818\u001B[0m     )\n",
      "File \u001B[1;32mlib.pyx:2920\u001B[0m, in \u001B[0;36mpandas._libs.lib.map_infer\u001B[1;34m()\u001B[0m\n",
      "Cell \u001B[1;32mIn[1], line 22\u001B[0m, in \u001B[0;36mcalculate_harmonics\u001B[1;34m(signal)\u001B[0m\n\u001B[0;32m     21\u001B[0m \u001B[38;5;28;01mdef\u001B[39;00m \u001B[38;5;21mcalculate_harmonics\u001B[39m(signal):\n\u001B[1;32m---> 22\u001B[0m     n \u001B[38;5;241m=\u001B[39m \u001B[38;5;28;43mlen\u001B[39;49m\u001B[43m(\u001B[49m\u001B[43msignal\u001B[49m\u001B[43m)\u001B[49m\n\u001B[0;32m     23\u001B[0m     fft_result \u001B[38;5;241m=\u001B[39m np\u001B[38;5;241m.\u001B[39mfft\u001B[38;5;241m.\u001B[39mfft(signal)\n\u001B[0;32m     24\u001B[0m     positive_frequencies \u001B[38;5;241m=\u001B[39m fft_result[:n\u001B[38;5;241m/\u001B[39m\u001B[38;5;241m/\u001B[39m\u001B[38;5;241m2\u001B[39m]\n",
      "\u001B[1;31mTypeError\u001B[0m: object of type 'float' has no len()"
     ]
    }
   ],
   "source": [
    "import pandas as pd\n",
    "import numpy as np\n",
    "\n",
    "# Your original DataFrame\n",
    "data = {\n",
    "    'timestamp': ['2013-06-14 01:22:10', '2013-06-14 01:22:11', '2013-06-14 01:22:12', '2013-06-14 01:22:13', '2013-06-14 01:22:14'],\n",
    "    'active': [217.259, 225.991, 223.157, 225.118, 221.923],\n",
    "    'reactive': [-28.605, -29.788, -29.026, -29.511, -29.281],\n",
    "    'aparent': [219.134, 227.946, 225.037, 227.044, 223.846],\n",
    "    'frequency': [50.28, 50.28, 50.30, 50.29, 50.29],\n",
    "    'voltage': [230.94, 231.01, 230.90, 230.93, 230.98],\n",
    "    'PF': [0.991, 0.991, 0.992, 0.992, 0.991],\n",
    "    'current': [0.949, 0.987, 0.975, 0.983, 0.969],\n",
    "}\n",
    "\n",
    "df = pd.DataFrame(data)\n",
    "df['timestamp'] = pd.to_datetime(df['timestamp'])\n",
    "df.set_index('timestamp', inplace=True)\n",
    "\n",
    "# Harmonics calculation function\n",
    "def calculate_harmonics(signal):\n",
    "    n = len(signal)\n",
    "    fft_result = np.fft.fft(signal)\n",
    "    positive_frequencies = fft_result[:n//2]\n",
    "    amplitudes = np.abs(positive_frequencies)\n",
    "    phases = np.angle(positive_frequencies)\n",
    "    return np.concatenate([amplitudes, phases])\n",
    "\n",
    "# Apply harmonics calculation to voltage and current columns\n",
    "df['voltage_harmonics'] = df['voltage'].apply(calculate_harmonics)\n",
    "df['current_harmonics'] = df['current'].apply(calculate_harmonics)\n",
    "\n",
    "# Create the new DataFrame with harmonics and appliances\n",
    "columns = []\n",
    "for col in ['current', 'voltage']:\n",
    "    for i in range(1, len(df[col+'_harmonics'][0])+1):\n",
    "        columns.append(f'{col}_h{i}')\n",
    "\n",
    "columns.append('appliance')\n",
    "new_df = pd.DataFrame(columns=columns)\n",
    "\n",
    "# Populate the new DataFrame\n",
    "for index, row in df.iterrows():\n",
    "    harmonics_row = []\n",
    "    for col in ['current', 'voltage']:\n",
    "        harmonics_row.extend(row[f'{col}_harmonics'])\n",
    "    harmonics_row.append('Your_Appliance_Here')  # Replace with the actual appliance label\n",
    "    new_df = new_df.append(pd.Series(harmonics_row, index=columns), ignore_index=True)\n",
    "\n",
    "# Display the new DataFrame\n",
    "print(new_df)\n"
   ],
   "metadata": {
    "collapsed": false,
    "ExecuteTime": {
     "end_time": "2024-01-19T10:04:50.872860700Z",
     "start_time": "2024-01-19T10:04:48.350938600Z"
    }
   },
   "id": "80087f7366761e7"
  },
  {
   "cell_type": "code",
   "execution_count": null,
   "outputs": [],
   "source": [],
   "metadata": {
    "collapsed": false
   },
   "id": "49ff9c79b09912ac"
  }
 ],
 "metadata": {
  "kernelspec": {
   "display_name": "Python 3",
   "language": "python",
   "name": "python3"
  },
  "language_info": {
   "codemirror_mode": {
    "name": "ipython",
    "version": 2
   },
   "file_extension": ".py",
   "mimetype": "text/x-python",
   "name": "python",
   "nbconvert_exporter": "python",
   "pygments_lexer": "ipython2",
   "version": "2.7.6"
  }
 },
 "nbformat": 4,
 "nbformat_minor": 5
}
