{
 "cells": [
  {
   "cell_type": "code",
   "execution_count": 1,
   "id": "initial_id",
   "metadata": {
    "collapsed": true,
    "ExecuteTime": {
     "end_time": "2023-11-21T07:28:52.312568200Z",
     "start_time": "2023-11-21T07:28:52.299545700Z"
    }
   },
   "outputs": [],
   "source": [
    "file = \"test_data_sensor_1.csv\"\n"
   ]
  },
  {
   "cell_type": "code",
   "execution_count": 4,
   "outputs": [
    {
     "data": {
      "text/plain": "'1'"
     },
     "execution_count": 4,
     "metadata": {},
     "output_type": "execute_result"
    }
   ],
   "source": [
    "file.split(\"_\")[-1].split(\".\")[0]"
   ],
   "metadata": {
    "collapsed": false,
    "ExecuteTime": {
     "end_time": "2023-11-21T07:29:51.884032600Z",
     "start_time": "2023-11-21T07:29:51.874686900Z"
    }
   },
   "id": "49b6feb0dd2eaf17"
  },
  {
   "cell_type": "code",
   "execution_count": 2,
   "outputs": [
    {
     "name": "stdout",
     "output_type": "stream",
     "text": [
      "Port must be an integer between 0 and 65535: 'None'\n"
     ]
    }
   ],
   "source": [
    "from pymongo import MongoClient\n",
    "from datetime import datetime\n",
    "import pandas as pd\n",
    "import numpy as np\n",
    "import os\n",
    "\n",
    "def store_predictions_in_mongodb(sensor_id, dates, predictions):\n",
    "    try:\n",
    "        # logger.info(\"calling DB configuration\")\n",
    "        db = os.getenv(\"db\")\n",
    "        host = os.getenv(\"host\")\n",
    "        port = os.getenv(\"port\")\n",
    "        collection_name = os.getenv(\"collection1\")\n",
    "\n",
    "        MONGO_URL = f\"mongodb://{host}:{port}\"\n",
    "\n",
    "        labeled_to_original_mapping = {\n",
    "            0: \"5f718c439c7a78.65267835\",\n",
    "            1: \"62a9920f75c931.62399458\",\n",
    "        }\n",
    "\n",
    "        client = MongoClient(MONGO_URL)\n",
    "        db1 = client[db]\n",
    "        collection = db1[collection_name]\n",
    "\n",
    "        for date in set(dates.date):\n",
    "            date_str = date.strftime('%Y-%m-%d')\n",
    "            document_id = f\"{sensor_id}_{date_str}\"\n",
    "\n",
    "            data = {\n",
    "                \"_id\": document_id,\n",
    "                \"sensor_id\": labeled_to_original_mapping.get(sensor_id, sensor_id),\n",
    "                \"creation_time\": datetime.now().strftime('%Y-%m-%d %H:%M:%S'),\n",
    "                \"millisecond\": int(datetime.now().timestamp() * 1000),\n",
    "                \"data\": {}\n",
    "            }\n",
    "\n",
    "            # Filter predictions for the current date\n",
    "            date_predictions = predictions[dates.date == date]\n",
    "\n",
    "            # Populate the 'data' dictionary with hourly predictions\n",
    "            for i, row in date_predictions.iterrows():\n",
    "                prediction_float = round(float(row['predictions']), 4)\n",
    "                data[\"data\"][str(i)] = {\n",
    "                    \"pre_kwh\": prediction_float,\n",
    "                    \"pre_current\": 0.0,\n",
    "                    \"pre_load\": 0.0,\n",
    "                    \"act_kwh\": 0.0,\n",
    "                    \"act_load\": 0.0\n",
    "                }\n",
    "\n",
    "            data_dict = {key: float(value) if isinstance(value, (float, np.integer, float, np.floating)) else value\n",
    "                         for key, value in data.items()}\n",
    "\n",
    "            # Insert data into MongoDB\n",
    "            collection.insert_one(data_dict)\n",
    "\n",
    "        client.close()\n",
    "\n",
    "    except Exception as e:\n",
    "        print(e)\n",
    "\n",
    "# Assuming 'dates' and 'predictions' are your pandas DataFrame columns\n",
    "dates = pd.to_datetime(['2023-11-28', '2023-11-29', '2023-11-30'])\n",
    "predictions = pd.DataFrame({\n",
    "    'date': dates.repeat(3),  # Repeat each date three times for demonstration\n",
    "    'predictions': np.random.rand(len(dates) * 3) * 1000  # Random predictions\n",
    "})\n",
    "\n",
    "# Call the function with your sensor_id\n",
    "store_predictions_in_mongodb(sensor_id=0, dates=dates, predictions=predictions)\n"
   ],
   "metadata": {
    "collapsed": false,
    "ExecuteTime": {
     "end_time": "2023-11-28T09:17:06.578862200Z",
     "start_time": "2023-11-28T09:17:06.561264500Z"
    }
   },
   "id": "400cc5ff99f08c64"
  },
  {
   "cell_type": "code",
   "execution_count": 1,
   "outputs": [],
   "source": [
    "import datetime\n"
   ],
   "metadata": {
    "collapsed": false,
    "ExecuteTime": {
     "end_time": "2023-12-04T18:08:10.406675200Z",
     "start_time": "2023-12-04T18:08:10.402480400Z"
    }
   },
   "id": "27fc7bbd0585336f"
  },
  {
   "cell_type": "code",
   "execution_count": 7,
   "outputs": [
    {
     "name": "stdout",
     "output_type": "stream",
     "text": [
      "2023-11\n"
     ]
    }
   ],
   "source": [
    "today = datetime.date.today()\n",
    "first = today.replace(day=1)\n",
    "\n",
    "last_month = first - datetime.timedelta(days=1)\n",
    "print(last_month.strftime(\"%Y-%m\"))"
   ],
   "metadata": {
    "collapsed": false,
    "ExecuteTime": {
     "end_time": "2023-12-04T18:11:40.925974600Z",
     "start_time": "2023-12-04T18:11:40.914583Z"
    }
   },
   "id": "bbebadbb074c26f1"
  },
  {
   "cell_type": "code",
   "execution_count": 10,
   "outputs": [
    {
     "ename": "AttributeError",
     "evalue": "module 'datetime' has no attribute 'today'",
     "output_type": "error",
     "traceback": [
      "\u001B[1;31m---------------------------------------------------------------------------\u001B[0m",
      "\u001B[1;31mAttributeError\u001B[0m                            Traceback (most recent call last)",
      "Cell \u001B[1;32mIn[10], line 4\u001B[0m\n\u001B[0;32m      1\u001B[0m \u001B[38;5;28;01mfrom\u001B[39;00m \u001B[38;5;21;01mdatetime\u001B[39;00m \u001B[38;5;28;01mimport\u001B[39;00m timedelta\n\u001B[0;32m      2\u001B[0m \u001B[38;5;28;01mimport\u001B[39;00m \u001B[38;5;21;01mdatetime\u001B[39;00m\n\u001B[1;32m----> 4\u001B[0m end_date \u001B[38;5;241m=\u001B[39m \u001B[43mdatetime\u001B[49m\u001B[38;5;241;43m.\u001B[39;49m\u001B[43mtoday\u001B[49m()\u001B[38;5;241m.\u001B[39mreplace(day\u001B[38;5;241m=\u001B[39m\u001B[38;5;241m1\u001B[39m)  \u001B[38;5;66;03m# Start of the current month\u001B[39;00m\n\u001B[0;32m      5\u001B[0m start_date \u001B[38;5;241m=\u001B[39m (end_date \u001B[38;5;241m-\u001B[39m timedelta(days\u001B[38;5;241m=\u001B[39m\u001B[38;5;241m1\u001B[39m))\u001B[38;5;241m.\u001B[39mreplace(day\u001B[38;5;241m=\u001B[39m\u001B[38;5;241m1\u001B[39m)  \u001B[38;5;66;03m# Start of the last month\u001B[39;00m\n\u001B[0;32m      7\u001B[0m \u001B[38;5;28mprint\u001B[39m(end_date)\n",
      "\u001B[1;31mAttributeError\u001B[0m: module 'datetime' has no attribute 'today'"
     ]
    }
   ],
   "source": [
    "from datetime import timedelta\n",
    "import datetime\n",
    "\n",
    "end_date = datetime.today().replace(day=1)  # Start of the current month\n",
    "start_date = (end_date - timedelta(days=1)).replace(day=1)  # Start of the last month\n",
    "\n",
    "print(end_date)\n",
    "print(start_date)\n",
    "# last_month_data = df[(df['creation_time'] >= start_date) & (df['creation_time'] < end_date)]\n",
    "# \n",
    "# # Sort data by 'creation_time' in ascending order\n",
    "# last_month_data = last_month_data.sort_values(by='creation_time', ascending=True)\n",
    "# \n",
    "# # Convert DataFrame to a list of dictionaries (MongoDB-friendly format)\n",
    "# data_to_insert = last_month_data.to_dict(orient='records')"
   ],
   "metadata": {
    "collapsed": false,
    "ExecuteTime": {
     "end_time": "2023-12-04T18:18:53.571704800Z",
     "start_time": "2023-12-04T18:18:53.554758400Z"
    }
   },
   "id": "c993de70a73b3912"
  },
  {
   "cell_type": "code",
   "execution_count": null,
   "outputs": [],
   "source": [],
   "metadata": {
    "collapsed": false
   },
   "id": "528f6bf083bdf1e0"
  }
 ],
 "metadata": {
  "kernelspec": {
   "display_name": "Python 3",
   "language": "python",
   "name": "python3"
  },
  "language_info": {
   "codemirror_mode": {
    "name": "ipython",
    "version": 2
   },
   "file_extension": ".py",
   "mimetype": "text/x-python",
   "name": "python",
   "nbconvert_exporter": "python",
   "pygments_lexer": "ipython2",
   "version": "2.7.6"
  }
 },
 "nbformat": 4,
 "nbformat_minor": 5
}
