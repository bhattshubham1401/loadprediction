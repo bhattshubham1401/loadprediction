{
 "cells": [
  {
   "cell_type": "code",
   "execution_count": 1,
   "id": "initial_id",
   "metadata": {
    "collapsed": true,
    "ExecuteTime": {
     "end_time": "2023-11-21T07:28:52.312568200Z",
     "start_time": "2023-11-21T07:28:52.299545700Z"
    }
   },
   "outputs": [],
   "source": [
    "file = \"test_data_sensor_1.csv\"\n"
   ]
  },
  {
   "cell_type": "code",
   "execution_count": 4,
   "outputs": [
    {
     "data": {
      "text/plain": "'1'"
     },
     "execution_count": 4,
     "metadata": {},
     "output_type": "execute_result"
    }
   ],
   "source": [
    "file.split(\"_\")[-1].split(\".\")[0]"
   ],
   "metadata": {
    "collapsed": false,
    "ExecuteTime": {
     "end_time": "2023-11-21T07:29:51.884032600Z",
     "start_time": "2023-11-21T07:29:51.874686900Z"
    }
   },
   "id": "49b6feb0dd2eaf17"
  },
  {
   "cell_type": "code",
   "execution_count": 2,
   "outputs": [
    {
     "name": "stdout",
     "output_type": "stream",
     "text": [
      "Port must be an integer between 0 and 65535: 'None'\n"
     ]
    }
   ],
   "source": [
    "from pymongo import MongoClient\n",
    "from datetime import datetime\n",
    "import pandas as pd\n",
    "import numpy as np\n",
    "import os\n",
    "\n",
    "def store_predictions_in_mongodb(sensor_id, dates, predictions):\n",
    "    try:\n",
    "        # logger.info(\"calling DB configuration\")\n",
    "        db = os.getenv(\"db\")\n",
    "        host = os.getenv(\"host\")\n",
    "        port = os.getenv(\"port\")\n",
    "        collection_name = os.getenv(\"collection1\")\n",
    "\n",
    "        MONGO_URL = f\"mongodb://{host}:{port}\"\n",
    "\n",
    "        labeled_to_original_mapping = {\n",
    "            0: \"5f718c439c7a78.65267835\",\n",
    "            1: \"62a9920f75c931.62399458\",\n",
    "        }\n",
    "\n",
    "        client = MongoClient(MONGO_URL)\n",
    "        db1 = client[db]\n",
    "        collection = db1[collection_name]\n",
    "\n",
    "        for date in set(dates.date):\n",
    "            date_str = date.strftime('%Y-%m-%d')\n",
    "            document_id = f\"{sensor_id}_{date_str}\"\n",
    "\n",
    "            data = {\n",
    "                \"_id\": document_id,\n",
    "                \"sensor_id\": labeled_to_original_mapping.get(sensor_id, sensor_id),\n",
    "                \"creation_time\": datetime.now().strftime('%Y-%m-%d %H:%M:%S'),\n",
    "                \"millisecond\": int(datetime.now().timestamp() * 1000),\n",
    "                \"data\": {}\n",
    "            }\n",
    "\n",
    "            # Filter predictions for the current date\n",
    "            date_predictions = predictions[dates.date == date]\n",
    "\n",
    "            # Populate the 'data' dictionary with hourly predictions\n",
    "            for i, row in date_predictions.iterrows():\n",
    "                prediction_float = round(float(row['predictions']), 4)\n",
    "                data[\"data\"][str(i)] = {\n",
    "                    \"pre_kwh\": prediction_float,\n",
    "                    \"pre_current\": 0.0,\n",
    "                    \"pre_load\": 0.0,\n",
    "                    \"act_kwh\": 0.0,\n",
    "                    \"act_load\": 0.0\n",
    "                }\n",
    "\n",
    "            data_dict = {key: float(value) if isinstance(value, (float, np.integer, float, np.floating)) else value\n",
    "                         for key, value in data.items()}\n",
    "\n",
    "            # Insert data into MongoDB\n",
    "            collection.insert_one(data_dict)\n",
    "\n",
    "        client.close()\n",
    "\n",
    "    except Exception as e:\n",
    "        print(e)\n",
    "\n",
    "# Assuming 'dates' and 'predictions' are your pandas DataFrame columns\n",
    "dates = pd.to_datetime(['2023-11-28', '2023-11-29', '2023-11-30'])\n",
    "predictions = pd.DataFrame({\n",
    "    'date': dates.repeat(3),  # Repeat each date three times for demonstration\n",
    "    'predictions': np.random.rand(len(dates) * 3) * 1000  # Random predictions\n",
    "})\n",
    "\n",
    "# Call the function with your sensor_id\n",
    "store_predictions_in_mongodb(sensor_id=0, dates=dates, predictions=predictions)\n"
   ],
   "metadata": {
    "collapsed": false,
    "ExecuteTime": {
     "end_time": "2023-11-28T09:17:06.578862200Z",
     "start_time": "2023-11-28T09:17:06.561264500Z"
    }
   },
   "id": "400cc5ff99f08c64"
  },
  {
   "cell_type": "code",
   "execution_count": null,
   "outputs": [],
   "source": [],
   "metadata": {
    "collapsed": false
   },
   "id": "27fc7bbd0585336f"
  }
 ],
 "metadata": {
  "kernelspec": {
   "display_name": "Python 3",
   "language": "python",
   "name": "python3"
  },
  "language_info": {
   "codemirror_mode": {
    "name": "ipython",
    "version": 2
   },
   "file_extension": ".py",
   "mimetype": "text/x-python",
   "name": "python",
   "nbconvert_exporter": "python",
   "pygments_lexer": "ipython2",
   "version": "2.7.6"
  }
 },
 "nbformat": 4,
 "nbformat_minor": 5
}
